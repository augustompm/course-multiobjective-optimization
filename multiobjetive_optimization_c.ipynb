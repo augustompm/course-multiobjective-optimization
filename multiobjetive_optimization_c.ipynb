{
  "nbformat": 4,
  "nbformat_minor": 0,
  "metadata": {
    "colab": {
      "provenance": [],
      "gpuType": "T4",
      "authorship_tag": "ABX9TyMOh+qMr780bmuUFwwdAaFD",
      "include_colab_link": true
    },
    "kernelspec": {
      "name": "python3",
      "display_name": "Python 3"
    },
    "language_info": {
      "name": "python"
    },
    "accelerator": "GPU"
  },
  "cells": [
    {
      "cell_type": "markdown",
      "metadata": {
        "id": "view-in-github",
        "colab_type": "text"
      },
      "source": [
        "<a href=\"https://colab.research.google.com/github/augustompm/course-multiobjective-optimization/blob/main/multiobjetive_optimization_c.ipynb\" target=\"_parent\"><img src=\"https://colab.research.google.com/assets/colab-badge.svg\" alt=\"Open In Colab\"/></a>"
      ]
    },
    {
      "cell_type": "code",
      "execution_count": 2,
      "metadata": {
        "colab": {
          "base_uri": "https://localhost:8080/"
        },
        "id": "O2BJU_4Pi8yW",
        "outputId": "df269c8b-efc9-4d90-f80f-028891ef5189"
      },
      "outputs": [
        {
          "output_type": "stream",
          "name": "stdout",
          "text": [
            "Collecting git+https://github.com/andreinechaev/nvcc4jupyter.git\n",
            "  Cloning https://github.com/andreinechaev/nvcc4jupyter.git to /tmp/pip-req-build-a8nkvajw\n",
            "  Running command git clone --filter=blob:none --quiet https://github.com/andreinechaev/nvcc4jupyter.git /tmp/pip-req-build-a8nkvajw\n",
            "  Resolved https://github.com/andreinechaev/nvcc4jupyter.git to commit 801584cceb559adc54e828ebe9b385c5f53fe70f\n",
            "  Installing build dependencies ... \u001b[?25l\u001b[?25hdone\n",
            "  Getting requirements to build wheel ... \u001b[?25l\u001b[?25hdone\n",
            "  Preparing metadata (pyproject.toml) ... \u001b[?25l\u001b[?25hdone\n",
            "Building wheels for collected packages: nvcc4jupyter\n",
            "  Building wheel for nvcc4jupyter (pyproject.toml) ... \u001b[?25l\u001b[?25hdone\n",
            "  Created wheel for nvcc4jupyter: filename=nvcc4jupyter-1.2.1-py3-none-any.whl size=10743 sha256=3a570d3ab74e9051a615aa78d54722c78a69a0c83a1d407fccde14c37a30e96c\n",
            "  Stored in directory: /tmp/pip-ephem-wheel-cache-wozgycp_/wheels/a8/b9/18/23f8ef71ceb0f63297dd1903aedd067e6243a68ea756d6feea\n",
            "Successfully built nvcc4jupyter\n",
            "Installing collected packages: nvcc4jupyter\n",
            "Successfully installed nvcc4jupyter-1.2.1\n"
          ]
        }
      ],
      "source": [
        "!pip install git+https://github.com/andreinechaev/nvcc4jupyter.git"
      ]
    },
    {
      "cell_type": "code",
      "source": [
        "%load_ext nvcc4jupyter\n",
        "\n"
      ],
      "metadata": {
        "colab": {
          "base_uri": "https://localhost:8080/"
        },
        "id": "FiV5X7t3lziH",
        "outputId": "12dae4d5-585b-4a11-c778-78d05441d2d2"
      },
      "execution_count": 3,
      "outputs": [
        {
          "output_type": "stream",
          "name": "stdout",
          "text": [
            "Detected platform \"Colab\". Running its setup...\n",
            "Source files will be saved in \"/tmp/tmpwrke9eab\".\n"
          ]
        }
      ]
    },
    {
      "cell_type": "code",
      "source": [
        "%%cuda\n",
        "//Olá mundo CUDA: imprimindo de 1 até 10\n",
        "#include <iostream>\n",
        "int main() {\n",
        "    for (int i = 1; i <= 10; ++i) {\n",
        "        std::cout << i << \" \";\n",
        "    }\n",
        "    std::cout << std::endl;\n",
        "    return 0;\n",
        "}\n"
      ],
      "metadata": {
        "colab": {
          "base_uri": "https://localhost:8080/"
        },
        "id": "u4PjE8U1mtPH",
        "outputId": "158be36d-c0ee-4501-b72f-0c9313a9850b"
      },
      "execution_count": null,
      "outputs": [
        {
          "output_type": "stream",
          "name": "stdout",
          "text": [
            "1 2 3 4 5 6 7 8 9 10 \n",
            "\n"
          ]
        }
      ]
    },
    {
      "cell_type": "code",
      "source": [
        "%%cuda\n",
        "\n",
        "//Trabalho 1: Problema da Mochila, Heurística Construtiva Aleatória, média 13.8 em 30 execuções\n",
        "\n",
        "#include <iostream>\n",
        "#include <vector>\n",
        "#include <cstdlib>\n",
        "#include <ctime>\n",
        "\n",
        "using namespace std;\n",
        "\n",
        "struct Item {\n",
        "    int peso;\n",
        "    int valor;\n",
        "};\n",
        "\n",
        "vector<bool> heuristicaAleatoria(const vector<Item>& itens, int capacidade, int tempoLimite) {\n",
        "    vector<bool> solucao(itens.size(), false);\n",
        "    int pesoAtual = 0;\n",
        "    time_t inicio = time(0);\n",
        "\n",
        "    while (difftime(time(0), inicio) < tempoLimite) {\n",
        "        int indice = rand() % itens.size();\n",
        "        if (!solucao[indice] && pesoAtual + itens[indice].peso <= capacidade) {\n",
        "            solucao[indice] = true;\n",
        "            pesoAtual += itens[indice].peso;\n",
        "        }\n",
        "    }\n",
        "\n",
        "    return solucao;\n",
        "}\n",
        "\n",
        "int calcularFO(const vector<Item>& itens, const vector<bool>& solucao) {\n",
        "    int valorTotal = 0;\n",
        "    for (int i = 0; i < itens.size(); ++i) {\n",
        "        if (solucao[i]) {\n",
        "            valorTotal += itens[i].valor;\n",
        "        }\n",
        "    }\n",
        "    return valorTotal;\n",
        "}\n",
        "\n",
        "double calcularMedia(const vector<int>& resultados) {\n",
        "    int soma = 0;\n",
        "    for (int i = 0; i < resultados.size(); ++i) {\n",
        "        soma += resultados[i];\n",
        "    }\n",
        "    return static_cast<double>(soma) / resultados.size();\n",
        "}\n",
        "\n",
        "int main() {\n",
        "    srand(time(0));\n",
        "\n",
        "    int capacidade = 10;\n",
        "    vector<Item> itens = {\n",
        "        {1, 1},\n",
        "        {1, 2},\n",
        "        {1, 3},\n",
        "        {5, 7},\n",
        "        {5, 8}\n",
        "    };\n",
        "\n",
        "    int tempoLimite = 2;\n",
        "    vector<int> resultados;\n",
        "\n",
        "    for (int i = 0; i < 30; ++i) {\n",
        "        vector<bool> solucao = heuristicaAleatoria(itens, capacidade, tempoLimite);\n",
        "        int fo = calcularFO(itens, solucao);\n",
        "        resultados.push_back(fo);\n",
        "    }\n",
        "\n",
        "    cout << \"Resultados das execuções:\\n\";\n",
        "    for (int i = 0; i < resultados.size(); ++i) {\n",
        "        cout << resultados[i] << \" \";\n",
        "    }\n",
        "    cout << endl;\n",
        "\n",
        "    double media = calcularMedia(resultados);\n",
        "    cout << \"Média dos resultados: \" << media << endl;\n",
        "\n",
        "    return 0;\n",
        "}\n"
      ],
      "metadata": {
        "colab": {
          "base_uri": "https://localhost:8080/"
        },
        "id": "N8s5R_2apS8l",
        "outputId": "35a9052b-226e-44b5-cde4-d2444e9a4c99"
      },
      "execution_count": 14,
      "outputs": [
        {
          "output_type": "stream",
          "name": "stdout",
          "text": [
            "Resultados das execuções:\n",
            "13 14 15 13 15 13 13 14 14 14 14 15 13 15 14 13 13 13 15 14 14 14 13 14 15 14 13 14 13 13 \n",
            "Média dos resultados: 13.8\n",
            "\n"
          ]
        }
      ]
    },
    {
      "cell_type": "code",
      "source": [
        "%%cuda\n",
        "\n",
        "// Trabalho 1: Problema da Mochila, Heurística Construtiva Gulosa - média 14, superior\n",
        "\n",
        "#include <iostream>\n",
        "#include <vector>\n",
        "#include <algorithm>\n",
        "\n",
        "using namespace std;\n",
        "\n",
        "// armazenar os dados dos itens\n",
        "struct Item {\n",
        "    int peso;\n",
        "    int valor;\n",
        "    int indice;  // Para rastrear o índice original\n",
        "\n",
        "// Função para calcular a razão valor/peso\n",
        "    double valorPorPeso() const {\n",
        "        return (double) valor / peso;\n",
        "    }\n",
        "};\n",
        "\n",
        "// solução gulosa baseada no valor/peso de cada item\n",
        "vector<bool> heuristicaGulosa(const vector<Item>& itens, int capacidade) {\n",
        "    vector<bool> solucao(itens.size(), false); // Solução inicial (vazia)\n",
        "    int pesoAtual = 0; // Peso total na mochila\n",
        "\n",
        "    // ordena os itens com base na razão valor/peso em ordem decrescente\n",
        "    vector<Item> itensOrdenados = itens;\n",
        "    sort(itensOrdenados.begin(), itensOrdenados.end(), [](const Item& a, const Item& b) {\n",
        "        return a.valorPorPeso() > b.valorPorPeso(); // Ordena por valor/peso\n",
        "    });\n",
        "\n",
        "    // adiciona os itens até que a mochila atinja a capacidade\n",
        "    for (const auto& item : itensOrdenados) {\n",
        "        if (pesoAtual + item.peso <= capacidade) {\n",
        "            solucao[item.indice] = true; // Adiciona o item à solução\n",
        "            pesoAtual += item.peso;      // Atualiza o peso total\n",
        "            // cout << \"Item \" << item.indice + 1 << \" adicionado. Peso: \" << item.peso << \", Valor: \" << item.valor << endl;\n",
        "        }\n",
        "    }\n",
        "\n",
        "    return solucao;\n",
        "}\n",
        "\n",
        "// função para calcular o valor total (FO)\n",
        "int calcularFO(const vector<Item>& itens, const vector<bool>& solucao) {\n",
        "    int valorTotal = 0;\n",
        "    for (int i = 0; i < itens.size(); ++i) {\n",
        "        if (solucao[i]) {\n",
        "            valorTotal += itens[i].valor;\n",
        "        }\n",
        "    }\n",
        "    return valorTotal;\n",
        "}\n",
        "\n",
        "void imprimirSolucao(const vector<Item>& itens, const vector<bool>& solucao) {\n",
        "    cout << \"\\nItens:\\n\";\n",
        "    for (int i = 0; i < itens.size(); ++i) {\n",
        "        if (solucao[i]) {\n",
        "            cout << \"Item \" << i + 1 << \" [P: \" << itens[i].peso << \", V: \" << itens[i].valor << \"]\\n\";\n",
        "        }\n",
        "    }\n",
        "    cout << \"\\nFunção Objetivo: \" << calcularFO(itens, solucao) << endl;\n",
        "}\n",
        "\n",
        "int main() {\n",
        "\n",
        "    int capacidade = 10;\n",
        "    vector<Item> itens = {\n",
        "        {1, 1, 0},  // Item 1: Peso 1, Valor 1\n",
        "        {1, 2, 1},  // Item 2: Peso 1, Valor 2\n",
        "        {1, 3, 2},  // Item 3: Peso 1, Valor 3\n",
        "        {5, 7, 3},  // Item 4: Peso 5, Valor 7\n",
        "        {5, 8, 4}   // Item 5: Peso 5, Valor 8\n",
        "    };\n",
        "\n",
        "    vector<bool> solucao = heuristicaGulosa(itens, capacidade);\n",
        "\n",
        "    imprimirSolucao(itens, solucao);\n",
        "\n",
        "    return 0;\n",
        "}\n"
      ],
      "metadata": {
        "id": "xxiwRacXBxxZ",
        "outputId": "7621988c-d1e0-4381-fa11-ba17f3423925",
        "colab": {
          "base_uri": "https://localhost:8080/"
        }
      },
      "execution_count": 13,
      "outputs": [
        {
          "output_type": "stream",
          "name": "stdout",
          "text": [
            "\n",
            "Itens:\n",
            "Item 1 [P: 1, V: 1]\n",
            "Item 2 [P: 1, V: 2]\n",
            "Item 3 [P: 1, V: 3]\n",
            "Item 5 [P: 5, V: 8]\n",
            "\n",
            "Função Objetivo: 14\n",
            "\n"
          ]
        }
      ]
    }
  ]
}