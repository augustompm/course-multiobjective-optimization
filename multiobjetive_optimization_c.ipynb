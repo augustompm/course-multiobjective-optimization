{
  "nbformat": 4,
  "nbformat_minor": 0,
  "metadata": {
    "colab": {
      "provenance": [],
      "gpuType": "T4",
      "authorship_tag": "ABX9TyMyyHZxkLmWu+PBnV7VDwpK",
      "include_colab_link": true
    },
    "kernelspec": {
      "name": "python3",
      "display_name": "Python 3"
    },
    "language_info": {
      "name": "python"
    },
    "accelerator": "GPU"
  },
  "cells": [
    {
      "cell_type": "markdown",
      "metadata": {
        "id": "view-in-github",
        "colab_type": "text"
      },
      "source": [
        "<a href=\"https://colab.research.google.com/github/augustompm/course-multiobjective-optimization/blob/main/multiobjetive_optimization_c.ipynb\" target=\"_parent\"><img src=\"https://colab.research.google.com/assets/colab-badge.svg\" alt=\"Open In Colab\"/></a>"
      ]
    },
    {
      "cell_type": "code",
      "execution_count": 2,
      "metadata": {
        "colab": {
          "base_uri": "https://localhost:8080/"
        },
        "id": "O2BJU_4Pi8yW",
        "outputId": "93e95ea6-29d5-484b-ca14-7f68a5886ef5"
      },
      "outputs": [
        {
          "output_type": "stream",
          "name": "stdout",
          "text": [
            "Collecting git+https://github.com/andreinechaev/nvcc4jupyter.git\n",
            "  Cloning https://github.com/andreinechaev/nvcc4jupyter.git to /tmp/pip-req-build-hq3dyuqt\n",
            "  Running command git clone --filter=blob:none --quiet https://github.com/andreinechaev/nvcc4jupyter.git /tmp/pip-req-build-hq3dyuqt\n",
            "  Resolved https://github.com/andreinechaev/nvcc4jupyter.git to commit 801584cceb559adc54e828ebe9b385c5f53fe70f\n",
            "  Installing build dependencies ... \u001b[?25l\u001b[?25hdone\n",
            "  Getting requirements to build wheel ... \u001b[?25l\u001b[?25hdone\n",
            "  Preparing metadata (pyproject.toml) ... \u001b[?25l\u001b[?25hdone\n",
            "Building wheels for collected packages: nvcc4jupyter\n",
            "  Building wheel for nvcc4jupyter (pyproject.toml) ... \u001b[?25l\u001b[?25hdone\n",
            "  Created wheel for nvcc4jupyter: filename=nvcc4jupyter-1.2.1-py3-none-any.whl size=10743 sha256=3a570d3ab74e9051a615aa78d54722c78a69a0c83a1d407fccde14c37a30e96c\n",
            "  Stored in directory: /tmp/pip-ephem-wheel-cache-1o_3i0__/wheels/a8/b9/18/23f8ef71ceb0f63297dd1903aedd067e6243a68ea756d6feea\n",
            "Successfully built nvcc4jupyter\n",
            "Installing collected packages: nvcc4jupyter\n",
            "Successfully installed nvcc4jupyter-1.2.1\n"
          ]
        }
      ],
      "source": [
        "!pip install git+https://github.com/andreinechaev/nvcc4jupyter.git"
      ]
    },
    {
      "cell_type": "code",
      "source": [
        "%load_ext nvcc4jupyter\n",
        "\n"
      ],
      "metadata": {
        "colab": {
          "base_uri": "https://localhost:8080/"
        },
        "id": "FiV5X7t3lziH",
        "outputId": "bc2b77e7-e0ef-46f8-be41-709d25af6fab"
      },
      "execution_count": 3,
      "outputs": [
        {
          "output_type": "stream",
          "name": "stdout",
          "text": [
            "Detected platform \"Colab\". Running its setup...\n",
            "Source files will be saved in \"/tmp/tmpwmaiywlb\".\n"
          ]
        }
      ]
    },
    {
      "cell_type": "code",
      "source": [
        "%%cuda\n",
        "//Olá mundo imprimindo de 1 até 10\n",
        "#include <iostream>\n",
        "int main() {\n",
        "    for (int i = 1; i <= 10; ++i) {\n",
        "        std::cout << i << \" \";\n",
        "    }\n",
        "    std::cout << std::endl;\n",
        "    return 0;\n",
        "}\n"
      ],
      "metadata": {
        "colab": {
          "base_uri": "https://localhost:8080/"
        },
        "id": "u4PjE8U1mtPH",
        "outputId": "158be36d-c0ee-4501-b72f-0c9313a9850b"
      },
      "execution_count": 4,
      "outputs": [
        {
          "output_type": "stream",
          "name": "stdout",
          "text": [
            "1 2 3 4 5 6 7 8 9 10 \n",
            "\n"
          ]
        }
      ]
    },
    {
      "cell_type": "code",
      "source": [
        "%%cuda\n",
        "#include <iostream>\n",
        "#include <vector>\n",
        "#include <cstdlib>\n",
        "#include <ctime>\n",
        "\n",
        "using namespace std;\n",
        "\n",
        "// armazenar os dados dos itens\n",
        "struct Item {\n",
        "    int peso;\n",
        "    int valor;\n",
        "};\n",
        "\n",
        "// solução aleatória dentro de um limite de tempo\n",
        "vector<bool> heuristicaAleatoria(const vector<Item>& itens, int capacidade, int tempoLimite) {\n",
        "    vector<bool> solucao(itens.size(), false); // Solução inicial (vazia)\n",
        "    int pesoAtual = 0; // Peso total na mochila\n",
        "\n",
        "    // Define o tempo de início\n",
        "    time_t inicio = time(0);\n",
        "\n",
        "    // adicionar itens aleatoriamente até o tempo limite\n",
        "    while (difftime(time(0), inicio) < tempoLimite) {\n",
        "        int indice = rand() % itens.size(); // Seleciona um item aleatório\n",
        "\n",
        "        // verifica se o item pode ser adicionado\n",
        "        if (!solucao[indice] && pesoAtual + itens[indice].peso <= capacidade) {\n",
        "            solucao[indice] = true; // Adiciona o item à solução\n",
        "            pesoAtual += itens[indice].peso; // Atualiza o peso total\n",
        "            cout << \"Item \" << indice + 1 << \" adicionado! Peso: \" << itens[indice].peso << \", Valor: \" << itens[indice].valor << endl;\n",
        "        }\n",
        "    }\n",
        "\n",
        "    return solucao;\n",
        "}\n",
        "\n",
        "int calcularFO(const vector<Item>& itens, const vector<bool>& solucao) {\n",
        "    int valorTotal = 0;\n",
        "    for (int i = 0; i < itens.size(); ++i) {\n",
        "        if (solucao[i]) {\n",
        "            valorTotal += itens[i].valor;\n",
        "        }\n",
        "    }\n",
        "    return valorTotal;\n",
        "}\n",
        "\n",
        "void imprimirSolucao(const vector<Item>& itens, const vector<bool>& solucao) {\n",
        "    cout << \"\\nItens escolhidos para a mochila:\\n\";\n",
        "    for (int i = 0; i < itens.size(); ++i) {\n",
        "        if (solucao[i]) {\n",
        "            cout << \"Item \" << i + 1 << \" (Peso: \" << itens[i].peso << \", Valor: \" << itens[i].valor << \")\\n\";\n",
        "        }\n",
        "    }\n",
        "    cout << \"\\nFunção Objetivo (Valor total dos itens): \" << calcularFO(itens, solucao) << endl;\n",
        "}\n",
        "\n",
        "int main() {\n",
        "    // semente aleatória básica\n",
        "    srand(time(0));\n",
        "\n",
        "    // itens e capacidade da mochila\n",
        "    int capacidade = 10;\n",
        "    vector<Item> itens = {\n",
        "        {1, 1},  // Item 1: Peso 1, Valor 1\n",
        "        {1, 2},  // Item 2: Peso 1, Valor 2\n",
        "        {1, 3},  // Item 3: Peso 1, Valor 3\n",
        "        {5, 7},  // Item 4: Peso 5, Valor 7\n",
        "        {5, 8}   // Item 5: Peso 5, Valor 8\n",
        "    };\n",
        "\n",
        "    int tempoLimite = 2; // 2 segundos\n",
        "\n",
        "    // Gera uma solução aleatória\n",
        "    vector<bool> solucao = heuristicaAleatoria(itens, capacidade, tempoLimite);\n",
        "\n",
        "    // Imprime a solução gerada e o valor total (Função Objetivo)\n",
        "    imprimirSolucao(itens, solucao);\n",
        "\n",
        "    return 0;\n",
        "}\n"
      ],
      "metadata": {
        "colab": {
          "base_uri": "https://localhost:8080/"
        },
        "id": "N8s5R_2apS8l",
        "outputId": "f757b32a-cc5a-44f1-c89e-7a7786d0f2ce"
      },
      "execution_count": 20,
      "outputs": [
        {
          "output_type": "stream",
          "name": "stdout",
          "text": [
            "Item 1 adicionado! Peso: 1, Valor: 1\n",
            "Item 5 adicionado! Peso: 5, Valor: 8\n",
            "Item 2 adicionado! Peso: 1, Valor: 2\n",
            "Item 3 adicionado! Peso: 1, Valor: 3\n",
            "\n",
            "Itens escolhidos para a mochila:\n",
            "Item 1 (Peso: 1, Valor: 1)\n",
            "Item 2 (Peso: 1, Valor: 2)\n",
            "Item 3 (Peso: 1, Valor: 3)\n",
            "Item 5 (Peso: 5, Valor: 8)\n",
            "\n",
            "Função Objetivo (Valor total dos itens): 14\n",
            "\n"
          ]
        }
      ]
    }
  ]
}